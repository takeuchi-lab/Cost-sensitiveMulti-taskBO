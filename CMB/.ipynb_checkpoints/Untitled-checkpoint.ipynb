{
 "cells": [
  {
   "cell_type": "code",
   "execution_count": 2,
   "metadata": {},
   "outputs": [],
   "source": [
    "from __future__ import division\n",
    "from matplotlib import pyplot as plt\n",
    "from tqdm import tqdm\n",
    "from mpl_toolkits.mplot3d import Axes3D\n",
    "import os\n",
    "import gc\n",
    "import sys\n",
    "import glob\n",
    "import copy \n",
    "import math\n",
    "import random\n",
    "import pickle\n",
    "import argparse\n",
    "import numpy as np\n",
    "import seaborn as sns\n",
    "import myBOLib as bol\n",
    "import scipy.spatial.distance as dist"
   ]
  },
  {
   "cell_type": "code",
   "execution_count": 3,
   "metadata": {},
   "outputs": [],
   "source": [
    "kf = bol.kernel_funcs\n",
    "af = bol.acquisition_funcs"
   ]
  },
  {
   "cell_type": "code",
   "execution_count": 29,
   "metadata": {},
   "outputs": [
    {
     "ename": "ValueError",
     "evalue": "XA must be a 2-dimensional array.",
     "output_type": "error",
     "traceback": [
      "\u001b[0;31m---------------------------------------------------------------------------\u001b[0m",
      "\u001b[0;31mValueError\u001b[0m                                Traceback (most recent call last)",
      "\u001b[0;32m<ipython-input-29-cc1a52c08824>\u001b[0m in \u001b[0;36m<module>\u001b[0;34m()\u001b[0m\n\u001b[1;32m     39\u001b[0m \u001b[0mX\u001b[0m \u001b[0;34m=\u001b[0m \u001b[0mnp\u001b[0m\u001b[0;34m.\u001b[0m\u001b[0marray\u001b[0m\u001b[0;34m(\u001b[0m\u001b[0mX\u001b[0m\u001b[0;34m)\u001b[0m\u001b[0;34m\u001b[0m\u001b[0m\n\u001b[1;32m     40\u001b[0m \u001b[0;34m\u001b[0m\u001b[0m\n\u001b[0;32m---> 41\u001b[0;31m \u001b[0mM\u001b[0m \u001b[0;34m=\u001b[0m \u001b[0mdist\u001b[0m\u001b[0;34m.\u001b[0m\u001b[0mcdist\u001b[0m\u001b[0;34m(\u001b[0m\u001b[0mX\u001b[0m\u001b[0;34m,\u001b[0m \u001b[0mX\u001b[0m\u001b[0;34m,\u001b[0m \u001b[0;34m\"sqeuclidean\"\u001b[0m\u001b[0;34m)\u001b[0m\u001b[0;34m\u001b[0m\u001b[0m\n\u001b[0m\u001b[1;32m     42\u001b[0m \u001b[0;34m\u001b[0m\u001b[0m\n\u001b[1;32m     43\u001b[0m \u001b[0;34m\u001b[0m\u001b[0m\n",
      "\u001b[0;32m/Users/t.yonezu/.pyenv/versions/anaconda-4.0.0/lib/python2.7/site-packages/scipy/spatial/distance.pyc\u001b[0m in \u001b[0;36mcdist\u001b[0;34m(XA, XB, metric, *args, **kwargs)\u001b[0m\n\u001b[1;32m   2588\u001b[0m \u001b[0;34m\u001b[0m\u001b[0m\n\u001b[1;32m   2589\u001b[0m     \u001b[0;32mif\u001b[0m \u001b[0mlen\u001b[0m\u001b[0;34m(\u001b[0m\u001b[0ms\u001b[0m\u001b[0;34m)\u001b[0m \u001b[0;34m!=\u001b[0m \u001b[0;36m2\u001b[0m\u001b[0;34m:\u001b[0m\u001b[0;34m\u001b[0m\u001b[0m\n\u001b[0;32m-> 2590\u001b[0;31m         \u001b[0;32mraise\u001b[0m \u001b[0mValueError\u001b[0m\u001b[0;34m(\u001b[0m\u001b[0;34m'XA must be a 2-dimensional array.'\u001b[0m\u001b[0;34m)\u001b[0m\u001b[0;34m\u001b[0m\u001b[0m\n\u001b[0m\u001b[1;32m   2591\u001b[0m     \u001b[0;32mif\u001b[0m \u001b[0mlen\u001b[0m\u001b[0;34m(\u001b[0m\u001b[0msB\u001b[0m\u001b[0;34m)\u001b[0m \u001b[0;34m!=\u001b[0m \u001b[0;36m2\u001b[0m\u001b[0;34m:\u001b[0m\u001b[0;34m\u001b[0m\u001b[0m\n\u001b[1;32m   2592\u001b[0m         \u001b[0;32mraise\u001b[0m \u001b[0mValueError\u001b[0m\u001b[0;34m(\u001b[0m\u001b[0;34m'XB must be a 2-dimensional array.'\u001b[0m\u001b[0;34m)\u001b[0m\u001b[0;34m\u001b[0m\u001b[0m\n",
      "\u001b[0;31mValueError\u001b[0m: XA must be a 2-dimensional array."
     ]
    }
   ],
   "source": [
    "##### make kernel instance ##### \n",
    "input_kernel = kf.RBF(1,15000) # average median 16050\n",
    "task_kernel01 = kf.RBF(1,55.7815464026) # true median \n",
    "task_kernel02 = kf.RBF(1,1225.0) # true median\n",
    "\n",
    "input_kernel.name = \"input_kernel:RBF\"\n",
    "task_kernel01.name = \"task_kernel01:RBF\"\n",
    "task_kernel02.name = \"task_kernel02:RBF\"\n",
    "\n",
    "##### initialize MTGPR instance #####\n",
    "mtgpr = bol.MTGPR.DBLZs_MTGPRegression(input_kernel=input_kernel,task_kernel01=task_kernel01,task_kernel02=task_kernel02,input_dim=3,task_dim01=100,task_dim02=1) # GPR instance \n",
    "\n",
    "##### load GB datas #####\n",
    "#GB_list =  np.sort(glob.glob(\"./Data/160613_EAM/*\"))\n",
    "GB_list =  np.sort(glob.glob(\"./Data/180524_EAM/*\"))\n",
    "#print(GB_list)\n",
    "\n",
    "##### switch test mode #####\n",
    "\n",
    "K = np.shape(GB_list)[0]\n",
    "\n",
    "##### set object functions #####\n",
    "gbID = np.zeros(K)\n",
    "X = []\n",
    "var = 0\n",
    "for k in range(K):\n",
    "\n",
    "    ##### open pickle file #####\n",
    "    with open(GB_list[k],\"rb\") as f:\n",
    "        gb = pickle.load(f)\n",
    "\n",
    "    name = \"gb[\"+((((GB_list[k]).split(\"/\")[-1]).split(\".\")[0]).split(\"_\"))[1]+\"_\"+((((GB_list[k]).split(\"/\")[-1]).split(\".\")[0]).split(\"_\"))[2]+\"]\"\n",
    "    n_atom = float(((((GB_list[k]).split(\"/\")[-1]).split(\".\")[0]).split(\"_\"))[3])\n",
    "    angle = 90-abs(90-int(((((GB_list[k]).split(\"/\")[-1]).split(\".\")[0]).split(\"_\"))[1]))\n",
    "    gbID[k] = int(((((GB_list[k]).split(\"/\")[-1]).split(\".\")[0]).split(\"_\"))[0])\n",
    "    \n",
    "    X.append(gb[\"IniRDF\"][0,:])\n",
    "\n",
    "X = np.array(X)\n",
    "    \n",
    "M = dist.cdist(X, X, \"sqeuclidean\")\n",
    "\n",
    "\n",
    "print(np.median(np.unique(M)))"
   ]
  },
  {
   "cell_type": "code",
   "execution_count": null,
   "metadata": {},
   "outputs": [],
   "source": []
  }
 ],
 "metadata": {
  "kernelspec": {
   "display_name": "Python 2",
   "language": "python",
   "name": "python2"
  },
  "language_info": {
   "codemirror_mode": {
    "name": "ipython",
    "version": 2
   },
   "file_extension": ".py",
   "mimetype": "text/x-python",
   "name": "python",
   "nbconvert_exporter": "python",
   "pygments_lexer": "ipython2",
   "version": "2.7.15"
  }
 },
 "nbformat": 4,
 "nbformat_minor": 2
}
